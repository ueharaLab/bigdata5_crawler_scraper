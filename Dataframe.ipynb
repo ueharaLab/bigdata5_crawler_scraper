{
 "cells": [
  {
   "cell_type": "markdown",
   "id": "89bbbdcd",
   "metadata": {},
   "source": [
    "## Dataframeの作成\n",
    "\n",
    "- DataFrame(2次元配列，columns=[列名リスト])　という構文になっていることに注意\n"
   ]
  },
  {
   "cell_type": "code",
   "execution_count": 3,
   "id": "ade21684",
   "metadata": {},
   "outputs": [
    {
     "data": {
      "text/html": [
       "<div>\n",
       "<style scoped>\n",
       "    .dataframe tbody tr th:only-of-type {\n",
       "        vertical-align: middle;\n",
       "    }\n",
       "\n",
       "    .dataframe tbody tr th {\n",
       "        vertical-align: top;\n",
       "    }\n",
       "\n",
       "    .dataframe thead th {\n",
       "        text-align: right;\n",
       "    }\n",
       "</style>\n",
       "<table border=\"1\" class=\"dataframe\">\n",
       "  <thead>\n",
       "    <tr style=\"text-align: right;\">\n",
       "      <th></th>\n",
       "      <th>name</th>\n",
       "      <th>weight</th>\n",
       "    </tr>\n",
       "  </thead>\n",
       "  <tbody>\n",
       "    <tr>\n",
       "      <th>a</th>\n",
       "      <td>Alice</td>\n",
       "      <td>78</td>\n",
       "    </tr>\n",
       "    <tr>\n",
       "      <th>b</th>\n",
       "      <td>bob</td>\n",
       "      <td>65</td>\n",
       "    </tr>\n",
       "    <tr>\n",
       "      <th>c</th>\n",
       "      <td>Charlie</td>\n",
       "      <td>90</td>\n",
       "    </tr>\n",
       "  </tbody>\n",
       "</table>\n",
       "</div>"
      ],
      "text/plain": [
       "      name  weight\n",
       "a    Alice      78\n",
       "b      bob      65\n",
       "c  Charlie      90"
      ]
     },
     "execution_count": 3,
     "metadata": {},
     "output_type": "execute_result"
    }
   ],
   "source": [
    "import pandas as pd\n",
    "a = [['Alice',78],['bob',65],['Charlie',90]]\n",
    "df = pd.DataFrame(a, index = ['a','b','c'],columns=['name','weight'])\n",
    "df\n"
   ]
  },
  {
   "cell_type": "markdown",
   "id": "1d09f60e",
   "metadata": {},
   "source": [
    "# 演習１\n",
    "以下の表をdataframeにしてみよ\n",
    "<img src=\"table.jpg\">"
   ]
  },
  {
   "cell_type": "markdown",
   "id": "3044e7f3",
   "metadata": {},
   "source": [
    "# 問題\n",
    "- 上記のaは、tabelog_scraper2csv.pyではどのようにコーディングしているだろうか\n",
    "-  pd.DataFrame(a, index = ['a','b','c'],columns=['name','weight'])は、どのようにコーディングしているか"
   ]
  },
  {
   "cell_type": "markdown",
   "id": "a7e7faf4",
   "metadata": {},
   "source": [
    "## csvへの書き出し\n",
    "以下の構文だと、文字コードの違いによるエラーを回避できるのでおすすめ"
   ]
  },
  {
   "cell_type": "code",
   "execution_count": 3,
   "id": "16b0db53",
   "metadata": {
    "collapsed": true,
    "jupyter": {
     "outputs_hidden": true
    }
   },
   "outputs": [],
   "source": [
    "import codecs\n",
    "with codecs.open(\"test1.csv\", \"w\", \"ms932\", \"ignore\") as f: \n",
    "    \n",
    "    df.to_csv(f, index=False, encoding=\"ms932\", mode='w', header=True)\n",
    "    "
   ]
  },
  {
   "cell_type": "markdown",
   "id": "4f6285bc",
   "metadata": {},
   "source": [
    "# 演習２\n",
    "演習１で作成したdataframeをcsvに書き出せ\n"
   ]
  },
  {
   "cell_type": "code",
   "execution_count": null,
   "id": "af362650",
   "metadata": {},
   "outputs": [],
   "source": []
  }
 ],
 "metadata": {
  "kernelspec": {
   "display_name": "Python 3 (ipykernel)",
   "language": "python",
   "name": "python3"
  },
  "language_info": {
   "codemirror_mode": {
    "name": "ipython",
    "version": 3
   },
   "file_extension": ".py",
   "mimetype": "text/x-python",
   "name": "python",
   "nbconvert_exporter": "python",
   "pygments_lexer": "ipython3",
   "version": "3.11.7"
  }
 },
 "nbformat": 4,
 "nbformat_minor": 5
}
