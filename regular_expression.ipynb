{
 "cells": [
  {
   "attachments": {},
   "cell_type": "markdown",
   "id": "adaa8aa4",
   "metadata": {},
   "source": [
    "# 正規表現による文字列切り出し\n",
    "\n",
    "## １．基礎的な正規表現パターンマッチ  \n",
    "以下のコードを読んで正規表現のコーディングパターンをよく理解してください。\n"
   ]
  },
  {
   "cell_type": "code",
   "execution_count": 2,
   "id": "549649d7",
   "metadata": {},
   "outputs": [
    {
     "name": "stdout",
     "output_type": "stream",
     "text": [
      "['123-7777', '567-9999']\n"
     ]
    }
   ],
   "source": [
    "import re\n",
    "address3 = \"東京都千代田区 123-7777, 東京都世田谷区 567-9999\"\n",
    "postCodeList = re.findall('[0-9]{3}-[0-9]{4}' , address3)\n",
    "if postCodeList:\n",
    "    print (postCodeList)"
   ]
  },
  {
   "cell_type": "markdown",
   "id": "03942e18",
   "metadata": {},
   "source": [
    "### 2．グループマッチ\n",
    "\n",
    "以下のプログラムを実行してみて、なぜ　print (address_name[0])　が　('東京都千代田区 ', '123-7777', ' 上原')　になるのかを考えてください。  \n",
    "1. address_name[1] では何が表示されるでしょうか。\n",
    "2. address_name[1][1] では何が表示されるでしょうか  \n",
    "\n",
    "実際に上記をプログラムに追記するとわかります\n",
    "\n",
    "つまり、取り出したいまとまり毎に(  )で正規表現を括るコーディングをやっている  \n",
    "\n",
    "例　：　東京都千代田区 123-7777  を漢字住所と郵便番号、それぞれ分離して認識するには。  \n",
    "\n",
    "postCode = re.match('[0-9]{3}-[0-9]{4}' , address)  \n",
    "'([一-龥 ]+)([0-9]{3}-[0-9]{4})'   "
   ]
  },
  {
   "cell_type": "code",
   "execution_count": 5,
   "id": "0fdcabab",
   "metadata": {},
   "outputs": [
    {
     "name": "stdout",
     "output_type": "stream",
     "text": [
      " 上原\n"
     ]
    }
   ],
   "source": [
    "import re\n",
    "address = \"東京都千代田区 123-7777 上原, 東京都世田谷区 567-9999 大森\"\n",
    "address_name = re.findall('([一-龥ぁ-んァ-ン ]+)([0-9]{3}-[0-9]{4})([一-龥ぁ-んァ-ン ]+)' , address)\n",
    "print (address_name[0][2])\n"
   ]
  },
  {
   "cell_type": "markdown",
   "id": "135ab843",
   "metadata": {},
   "source": [
    "### ３．小数点付きの数値を取り出す\n",
    "以下のような文字列からから小数点のある数値の部分だけを取り出してみてください。"
   ]
  },
  {
   "cell_type": "code",
   "execution_count": 13,
   "id": "d5f7c357",
   "metadata": {},
   "outputs": [
    {
     "data": {
      "text/plain": [
       "['123.4', '567.8']"
      ]
     },
     "execution_count": 13,
     "metadata": {},
     "output_type": "execute_result"
    }
   ],
   "source": [
    "moji = '文字の中に数値123.4と、567.8がある'\n"
   ]
  },
  {
   "cell_type": "markdown",
   "id": "eae5258f",
   "metadata": {},
   "source": [
    "### ４．繰り返しながら特定文字列パターンを取り出す\n",
    "以下の文字列から'〇〇〇人'だけを取り出して表示してください。"
   ]
  },
  {
   "cell_type": "code",
   "execution_count": 17,
   "id": "4d7071aa",
   "metadata": {},
   "outputs": [
    {
     "name": "stdout",
     "output_type": "stream",
     "text": [
      "[]\n",
      "['166人']\n",
      "['827人']\n",
      "[]\n",
      "[]\n",
      "['183人']\n",
      "[]\n",
      "['661人']\n"
     ]
    }
   ],
   "source": [
    "moji=['令和4年12月5日現在の状況',\n",
    "'熊谷市居住の陽性者数（参考数値) 　166人',\n",
    "'累計（参考数値）　31,827人',\n",
    "'令和4年9月28日からは参考数値を累計しているため、実態とは異なります。',\n",
    "\n",
    "'令和4年12月4日現在の状況',\n",
    "'熊谷市居住の陽性者数（参考数値) 　183人',\n",
    "'県発表件数の内訳ではありませんのでご注意ください。',\n",
    "'累計（参考数値）　31,661人'\n",
    "]\n",
    "\n",
    "\n"
   ]
  },
  {
   "cell_type": "code",
   "execution_count": null,
   "id": "dbf00a75",
   "metadata": {},
   "outputs": [],
   "source": []
  }
 ],
 "metadata": {
  "kernelspec": {
   "display_name": "Python 3 (ipykernel)",
   "language": "python",
   "name": "python3"
  },
  "language_info": {
   "codemirror_mode": {
    "name": "ipython",
    "version": 3
   },
   "file_extension": ".py",
   "mimetype": "text/x-python",
   "name": "python",
   "nbconvert_exporter": "python",
   "pygments_lexer": "ipython3",
   "version": "3.11.7"
  }
 },
 "nbformat": 4,
 "nbformat_minor": 5
}
